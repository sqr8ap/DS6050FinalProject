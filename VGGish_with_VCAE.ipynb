{
  "cells": [
    {
      "cell_type": "markdown",
      "metadata": {
        "id": "h4QYnJEd8qFx"
      },
      "source": [
        "# VGGish CNN classifier with VCAE for synthetic data generation"
      ]
    },
    {
      "cell_type": "markdown",
      "metadata": {
        "id": "EJ6kzEAj8N2j"
      },
      "source": [
        "## Loading and formatting the data"
      ]
    },
    {
      "cell_type": "code",
      "execution_count": 1,
      "metadata": {
        "colab": {
          "base_uri": "https://localhost:8080/"
        },
        "id": "UGHXleyzHxzq",
        "outputId": "0d4154e9-059b-4fad-814a-69edc3c69480"
      },
      "outputs": [
        {
          "output_type": "stream",
          "name": "stdout",
          "text": [
            "Collecting torchvggish\n",
            "  Downloading torchvggish-0.2.tar.gz (9.7 kB)\n",
            "  Installing build dependencies ... \u001b[?25l\u001b[?25hdone\n",
            "  Getting requirements to build wheel ... \u001b[?25l\u001b[?25hdone\n",
            "  Preparing metadata (pyproject.toml) ... \u001b[?25l\u001b[?25hdone\n",
            "Requirement already satisfied: numpy in /usr/local/lib/python3.11/dist-packages (from torchvggish) (2.0.2)\n",
            "Requirement already satisfied: torch in /usr/local/lib/python3.11/dist-packages (from torchvggish) (2.6.0+cpu)\n",
            "Collecting resampy (from torchvggish)\n",
            "  Downloading resampy-0.4.3-py3-none-any.whl.metadata (3.0 kB)\n",
            "Requirement already satisfied: numba>=0.53 in /usr/local/lib/python3.11/dist-packages (from resampy->torchvggish) (0.61.2)\n",
            "Requirement already satisfied: filelock in /usr/local/lib/python3.11/dist-packages (from torch->torchvggish) (3.18.0)\n",
            "Requirement already satisfied: typing-extensions>=4.10.0 in /usr/local/lib/python3.11/dist-packages (from torch->torchvggish) (4.13.2)\n",
            "Requirement already satisfied: networkx in /usr/local/lib/python3.11/dist-packages (from torch->torchvggish) (3.4.2)\n",
            "Requirement already satisfied: jinja2 in /usr/local/lib/python3.11/dist-packages (from torch->torchvggish) (3.1.6)\n",
            "Requirement already satisfied: fsspec in /usr/local/lib/python3.11/dist-packages (from torch->torchvggish) (2025.3.2)\n",
            "Requirement already satisfied: sympy==1.13.1 in /usr/local/lib/python3.11/dist-packages (from torch->torchvggish) (1.13.1)\n",
            "Requirement already satisfied: mpmath<1.4,>=1.1.0 in /usr/local/lib/python3.11/dist-packages (from sympy==1.13.1->torch->torchvggish) (1.3.0)\n",
            "Requirement already satisfied: llvmlite<0.45,>=0.44.0dev0 in /usr/local/lib/python3.11/dist-packages (from numba>=0.53->resampy->torchvggish) (0.44.0)\n",
            "Requirement already satisfied: MarkupSafe>=2.0 in /usr/local/lib/python3.11/dist-packages (from jinja2->torch->torchvggish) (3.0.2)\n",
            "Downloading resampy-0.4.3-py3-none-any.whl (3.1 MB)\n",
            "\u001b[2K   \u001b[90m━━━━━━━━━━━━━━━━━━━━━━━━━━━━━━━━━━━━━━━━\u001b[0m \u001b[32m3.1/3.1 MB\u001b[0m \u001b[31m29.1 MB/s\u001b[0m eta \u001b[36m0:00:00\u001b[0m\n",
            "\u001b[?25hBuilding wheels for collected packages: torchvggish\n",
            "  Building wheel for torchvggish (pyproject.toml) ... \u001b[?25l\u001b[?25hdone\n",
            "  Created wheel for torchvggish: filename=torchvggish-0.2-py3-none-any.whl size=10592 sha256=d8bcdcd50c591208ad33a5d8bda76552cc2ccfdc522e210b4aed424ea19f7ce9\n",
            "  Stored in directory: /root/.cache/pip/wheels/0c/b6/62/5c9bd6c165455610ef9b53638fa065b488ece3e06571b4ff0d\n",
            "Successfully built torchvggish\n",
            "Installing collected packages: resampy, torchvggish\n",
            "Successfully installed resampy-0.4.3 torchvggish-0.2\n"
          ]
        }
      ],
      "source": [
        "!pip install torchvggish"
      ]
    },
    {
      "cell_type": "code",
      "execution_count": 2,
      "metadata": {
        "id": "5krGRUA1hn0n"
      },
      "outputs": [],
      "source": [
        "# Import packages\n",
        "import numpy as np\n",
        "import pandas as pd\n",
        "import os\n",
        "import torch\n",
        "import torchaudio\n",
        "import torchaudio.transforms as transforms\n",
        "from torch.utils.data import Dataset\n",
        "import IPython.display as ipd\n",
        "import torch.optim as optim\n",
        "import matplotlib.pyplot as plt\n",
        "from torch.utils.data import Subset"
      ]
    },
    {
      "cell_type": "code",
      "execution_count": 3,
      "metadata": {
        "colab": {
          "base_uri": "https://localhost:8080/"
        },
        "id": "lU8PT7r91Yf4",
        "outputId": "4b8f4a69-e8e4-4d03-ee47-b19c5fbe717e"
      },
      "outputs": [
        {
          "output_type": "stream",
          "name": "stdout",
          "text": [
            "Mounted at /content/drive\n"
          ]
        }
      ],
      "source": [
        "# This will prompt you to give Colab access to your Drive files\n",
        "from google.colab import drive\n",
        "drive.mount('/content/drive')"
      ]
    },
    {
      "cell_type": "code",
      "execution_count": 4,
      "metadata": {
        "colab": {
          "base_uri": "https://localhost:8080/"
        },
        "id": "qhzV068k1vVD",
        "outputId": "3657b861-3e7f-4f51-9270-c6646d229acb"
      },
      "outputs": [
        {
          "output_type": "execute_result",
          "data": {
            "text/plain": [
              "920"
            ]
          },
          "metadata": {},
          "execution_count": 4
        }
      ],
      "source": [
        "# Read in audio files\n",
        "\n",
        "# Respiratory_Sound_Database/audio_and_txt_files/ specifies the folder containing .wav and .txt files on my Drive\n",
        "dataset_path = \"/content/drive/MyDrive/Respiratory_Sound_Database/audio_and_txt_files/\" # tweaked this file path to run on my laptop, pls change if needed - lucy\n",
        "\n",
        "audio_files = [f for f in os.listdir(dataset_path) if f.endswith(\".wav\")]\n",
        "len(audio_files)"
      ]
    },
    {
      "cell_type": "code",
      "execution_count": 5,
      "metadata": {
        "colab": {
          "base_uri": "https://localhost:8080/"
        },
        "id": "vox6LftK_m3t",
        "outputId": "3f1c03b5-ceb2-44f0-9b49-10ff0c718e97"
      },
      "outputs": [
        {
          "output_type": "execute_result",
          "data": {
            "text/plain": [
              "126"
            ]
          },
          "metadata": {},
          "execution_count": 5
        }
      ],
      "source": [
        "# Read in diagnosis information\n",
        "\n",
        "diagnosis_df = pd.read_csv(\"/content/drive/MyDrive/Respiratory_Sound_Database/patient_diagnosis.csv\", header=None, names=['pt_id', 'diag'])\n",
        "diagnosis_df.pt_id = diagnosis_df.pt_id.astype(str)\n",
        "len(diagnosis_df)"
      ]
    },
    {
      "cell_type": "code",
      "execution_count": 6,
      "metadata": {
        "colab": {
          "base_uri": "https://localhost:8080/"
        },
        "id": "5qAXDJUjIX0i",
        "outputId": "8da430f0-4f7f-44da-8d8e-98928e397321"
      },
      "outputs": [
        {
          "output_type": "stream",
          "name": "stdout",
          "text": [
            "('/content/drive/MyDrive/Respiratory_Sound_Database/audio_and_txt_files/160_1b3_Tc_mc_AKGC417L.wav', tensor([[0.0000, 0.0000, 0.0000,  ..., 0.2042, 0.2050, 0.2051]]), 44100, 'COPD')\n",
            "('/content/drive/MyDrive/Respiratory_Sound_Database/audio_and_txt_files/160_1b4_Ar_mc_AKGC417L.wav', tensor([[0.0000, 0.0000, 0.0000,  ..., 0.1118, 0.1131, 0.1136]]), 44100, 'COPD')\n",
            "('/content/drive/MyDrive/Respiratory_Sound_Database/audio_and_txt_files/160_1b3_Ar_mc_AKGC417L.wav', tensor([[0.0000, 0.0000, 0.0000,  ..., 0.5175, 0.5198, 0.5223]]), 44100, 'COPD')\n"
          ]
        }
      ],
      "source": [
        "# Map audio files to diagnoses\n",
        "\n",
        "# Function to extract patient ID from filename\n",
        "def get_pt_id(filename):\n",
        "    return filename.split('_')[0]\n",
        "\n",
        "# Create a list to store (filepath, waveform, sample_rate, diagnosis)\n",
        "dat = []\n",
        "\n",
        "for audio_file in audio_files:\n",
        "    patient_id = get_pt_id(audio_file)  # Extract patient ID\n",
        "    diagnosis = diagnosis_df.loc[diagnosis_df[\"pt_id\"] == patient_id, \"diag\"].values\n",
        "\n",
        "    if len(diagnosis) > 0:\n",
        "        diagnosis = diagnosis[0]\n",
        "    else:\n",
        "        diagnosis = \"Unknown\"\n",
        "\n",
        "    audio_path = os.path.join(dataset_path, audio_file)  # Full path\n",
        "    #waveform, sample_rate = torchaudio.load(audio_path)  # Load audio\n",
        "    waveform, sample_rate = torchaudio.load(dataset_path + audio_file)\n",
        "\n",
        "    dat.append((audio_path, waveform, sample_rate, diagnosis))\n",
        "\n",
        "# Check first few entries\n",
        "for i in range(3):\n",
        "    print(dat[i])\n"
      ]
    },
    {
      "cell_type": "code",
      "execution_count": 7,
      "metadata": {
        "colab": {
          "base_uri": "https://localhost:8080/"
        },
        "id": "JLJrqIYkMKSF",
        "outputId": "efab72a6-de4b-4346-b38e-f6401b3f303a"
      },
      "outputs": [
        {
          "output_type": "execute_result",
          "data": {
            "text/plain": [
              "920"
            ]
          },
          "metadata": {},
          "execution_count": 7
        }
      ],
      "source": [
        "len(dat)"
      ]
    },
    {
      "cell_type": "markdown",
      "metadata": {
        "id": "D2y9MZXH8uTx"
      },
      "source": [
        "## Data preprocessing"
      ]
    },
    {
      "cell_type": "code",
      "execution_count": 8,
      "metadata": {
        "colab": {
          "base_uri": "https://localhost:8080/"
        },
        "id": "UFS0S-HL4P_h",
        "outputId": "82b4f746-587f-4118-d953-49171438cd86"
      },
      "outputs": [
        {
          "output_type": "stream",
          "name": "stdout",
          "text": [
            "all audio files are 16 kHz.\n",
            "all waveforms are mono.\n"
          ]
        }
      ],
      "source": [
        "# Standardizing the sample rate to 16 kHz and resolving the mix of mono and multi-channel audio\n",
        "target_sample_rate = 16000\n",
        "\n",
        "dat = []\n",
        "\n",
        "for audio_file in audio_files:\n",
        "    patient_id = get_pt_id(audio_file)\n",
        "    diagnosis = diagnosis_df.loc[diagnosis_df[\"pt_id\"] == patient_id, \"diag\"].values\n",
        "\n",
        "    diagnosis = diagnosis[0] if len(diagnosis) > 0 else \"Unknown\"\n",
        "\n",
        "    audio_path = os.path.join(dataset_path, audio_file)\n",
        "    waveform, sample_rate = torchaudio.load(audio_path)\n",
        "\n",
        "    # check if the sample rate is 16kHz, resample if it is not\n",
        "    if sample_rate != target_sample_rate:\n",
        "        resampler = transforms.Resample(orig_freq=sample_rate, new_freq=target_sample_rate)\n",
        "        waveform = resampler(waveform)\n",
        "        sample_rate = target_sample_rate\n",
        "\n",
        "    dat.append((audio_path, waveform, sample_rate, diagnosis))\n",
        "\n",
        "    # check if mono channel, otherwise change to mono channel\n",
        "\n",
        "    if waveform.shape[0] > 1:\n",
        "        waveform = torch.mean(waveform, dim=0, keepdim=True)\n",
        "\n",
        "# loop through the list to verify standardization\n",
        "check_16 = all(sample_rate == 16000 for _, _, sample_rate, _ in dat)\n",
        "\n",
        "if check_16:\n",
        "    print(\"all audio files are 16 kHz.\")\n",
        "else:\n",
        "    print(\"not all audio files are 16 kHz.\")\n",
        "    # Optionally print which ones\n",
        "    #for i, (path, _, sample_rate, _) in enumerate(dat):\n",
        "        #if sample_rate != 16000:\n",
        "            #print(f\"File {i}: {path} has sample rate {sample_rate}\")\n",
        "\n",
        "# check that all waveforms have successfully been converted the mono channel\n",
        "all_mono = all(waveform.shape[0] == 1 for _, waveform, _, _ in dat)\n",
        "print(\"all waveforms are mono.\") if all_mono else print(\"not all waveforms are mono.\")\n"
      ]
    },
    {
      "cell_type": "code",
      "execution_count": 9,
      "metadata": {
        "colab": {
          "base_uri": "https://localhost:8080/"
        },
        "id": "-2iy5MkxxsmW",
        "outputId": "6a3088fe-26e2-4a64-b751-24c305f3f002"
      },
      "outputs": [
        {
          "output_type": "stream",
          "name": "stdout",
          "text": [
            "all waveforms are amplitude-normalized.\n"
          ]
        }
      ],
      "source": [
        "# Normalize amplitude\n",
        "\n",
        "def normalize_waveform(waveform):\n",
        "    peak = waveform.abs().max()\n",
        "    if peak > 0:\n",
        "        waveform = waveform / peak\n",
        "    return waveform\n",
        "\n",
        "for i in range(len(dat)):\n",
        "    path, waveform, sr, diag = dat[i]\n",
        "    waveform = normalize_waveform(waveform)\n",
        "    dat[i] = (path, waveform, sr, diag)\n",
        "\n",
        "all_normalized = all(torch.isclose(waveform.abs().max(), torch.tensor(1.0), atol=1e-3)\n",
        "                     or waveform.abs().max() == 0\n",
        "                     for _, waveform, _, _ in dat)\n",
        "\n",
        "print(\"all waveforms are amplitude-normalized.\") if all_normalized else print(\"NOT all waveforms are normalized.\")\n"
      ]
    },
    {
      "cell_type": "code",
      "execution_count": 10,
      "metadata": {
        "colab": {
          "base_uri": "https://localhost:8080/"
        },
        "id": "L_3ZvoaJt48z",
        "outputId": "b1493a1b-de60-475d-fde7-9a5e252c6a76"
      },
      "outputs": [
        {
          "output_type": "stream",
          "name": "stdout",
          "text": [
            "Total number of windows: 11944\n"
          ]
        }
      ],
      "source": [
        "# Standardizing duration with a sliding window approach\n",
        "\n",
        "window_length = 48000  # size of each window = 3 second (account for full breathing cycle)\n",
        "stride = 24000  # 50% overlap between consecutive windows\n",
        "\n",
        "windowed_dat = []  # storage for window_tensor (1 sec chunk of waveform), diagnosis (label), original_path)\n",
        "\n",
        "# loop through each preprocessed audio entry\n",
        "for path, waveform, sr, diag in dat:\n",
        "    total_samples = waveform.size(1)\n",
        "\n",
        "    # skip files that are shorter than a single window\n",
        "    if total_samples < window_length:\n",
        "        continue\n",
        "\n",
        "    # loop through window using specified sliding window\n",
        "    for start in range(0, total_samples - window_length + 1, stride):\n",
        "        end = start + window_length\n",
        "        window = waveform[:, start:end]\n",
        "        windowed_dat.append((window, diag, path)) # append window + meta data to windowed_dat\n",
        "\n",
        "print(f\"Total number of windows: {len(windowed_dat)}\")"
      ]
    },
    {
      "cell_type": "code",
      "execution_count": 44,
      "metadata": {
        "colab": {
          "base_uri": "https://localhost:8080/"
        },
        "id": "GsaLOzlwMpi8",
        "outputId": "60ac23bf-8250-4881-f84e-9ef4ec6c389a"
      },
      "outputs": [
        {
          "output_type": "stream",
          "name": "stdout",
          "text": [
            "Total Mel Spectrogram windows: 11944\n"
          ]
        }
      ],
      "source": [
        "# Convert to mel spectrogram form\n",
        "\n",
        "# Define a Mel Spectrogram transformation\n",
        "mel_spectrogram = transforms.MelSpectrogram(sample_rate=16000, n_mels=64)\n",
        "\n",
        "# Function to normalize a single spectrogram\n",
        "def normalize_spec(spec):\n",
        "    return (spec - spec.mean()) / (spec.std() + 1e-6)\n",
        "\n",
        "# List to store results\n",
        "mel_windowed_dat = []\n",
        "\n",
        "# Loop through all windowed samples\n",
        "for window_tensor, diag, path in windowed_dat:\n",
        "    mel_spec = mel_spectrogram(window_tensor) + 1e-6  # avoid log(0)\n",
        "    log_mel_spec = torch.log(mel_spec)\n",
        "    log_mel_spec = normalize_spec(log_mel_spec)\n",
        "    mel_windowed_dat.append((log_mel_spec, diag, path)) # append results\n",
        "\n",
        "print(f\"Total Mel Spectrogram windows: {len(mel_windowed_dat)}\")"
      ]
    },
    {
      "cell_type": "markdown",
      "source": [
        "## VCAE for generating minority class synthetic data"
      ],
      "metadata": {
        "id": "U3wOywhjlRfW"
      }
    },
    {
      "cell_type": "code",
      "source": [
        "from collections import Counter\n",
        "from torch.utils.data import DataLoader, TensorDataset\n",
        "import torch.nn.functional as F\n",
        "from torch.utils.data import Dataset, DataLoader\n",
        "from sklearn.preprocessing import LabelEncoder\n",
        "import torch.nn as nn\n",
        "import random\n",
        "from sklearn.utils.class_weight import compute_class_weight\n",
        "\n",
        "# Remove Asthma and LRTI (too few samples)\n",
        "filtered_mel_data = [(spec, diag, path) for spec, diag, path in mel_windowed_dat if diag not in [\"Asthma\", \"LRTI\"]]\n",
        "\n",
        "# Separate by class\n",
        "copd_samples = [item for item in filtered_mel_data if item[1] == \"COPD\"]\n",
        "other_samples = [item for item in filtered_mel_data if item[1] != \"COPD\"]\n",
        "\n",
        "# Randomly downsample COPD to 2000 samples\n",
        "copd_downsampled = random.sample(copd_samples, 2000)\n",
        "\n",
        "# New filtered dataset\n",
        "filtered_mel_data = copd_downsampled + other_samples\n",
        "\n",
        "# Resize all real mel spectrograms to [1, 64, 96]\n",
        "resized_filtered_mel_data = []\n",
        "for spec, diag, path in filtered_mel_data:\n",
        "    if spec.dim() == 3:\n",
        "        spec = spec.unsqueeze(0)  # [1, 1, 64, T]\n",
        "    resized_spec = F.interpolate(spec, size=(64, 96), mode='bilinear')  # [1, 1, 64, 96]\n",
        "    resized_filtered_mel_data.append((resized_spec.squeeze(0), diag, path))\n",
        "\n",
        "filtered_mel_data = resized_filtered_mel_data  # overwrite original list\n",
        "\n",
        "print(f\"Filtered dataset size: {len(filtered_mel_data)}\")\n",
        "\n",
        "# Encode labels\n",
        "filtered_labels = [diag for _, diag, _ in filtered_mel_data]\n",
        "label_encoder = LabelEncoder()\n",
        "filtered_encoded_labels = label_encoder.fit_transform(filtered_labels)\n",
        "\n",
        "# Count class frequencies\n",
        "diagnosis_counts = Counter(filtered_labels)\n",
        "print(\"Diagnosis counts after filtering:\", diagnosis_counts)\n",
        "\n",
        "# Define minority classes: any class not equal to \"COPD\"\n",
        "class_freq = pd.Series(diagnosis_counts)\n",
        "minority_classes = [c for c in class_freq.index if c != \"COPD\"]\n",
        "print(\"Minority classes to augment:\", minority_classes)\n",
        "\n",
        "# Define variational convolutional autoencoder (VCAE)\n",
        "class VCAE(nn.Module):\n",
        "  \"\"\"\n",
        "  1) encodes input spectrogram into latent space\n",
        "  2) reparamaterizes (adds noise to learn robust features)\n",
        "  3) decodes latent vector into new spectrogram\n",
        "  \"\"\"\n",
        "    def __init__(self, latent_dim=32):\n",
        "        super(VCAE, self).__init__()\n",
        "        self.encoder = nn.Sequential(\n",
        "            nn.Conv2d(1, 16, 3, stride=2, padding=1),\n",
        "            nn.ReLU(),\n",
        "            nn.Conv2d(16, 32, 3, stride=2, padding=1),\n",
        "            nn.ReLU(),\n",
        "            nn.Flatten()\n",
        "        )\n",
        "        self.fc_mu = nn.Linear(32 * 16 * 24, latent_dim)\n",
        "        self.fc_logvar = nn.Linear(32 * 16 * 24, latent_dim)\n",
        "\n",
        "        self.fc_decode = nn.Linear(latent_dim, 32 * 16 * 24)\n",
        "        self.decoder = nn.Sequential(\n",
        "            nn.Unflatten(1, (32, 16, 24)),\n",
        "            nn.ConvTranspose2d(32, 16, 4, stride=2, padding=1),\n",
        "            nn.ReLU(),\n",
        "            nn.ConvTranspose2d(16, 1, 4, stride=2, padding=1),\n",
        "            nn.Tanh()\n",
        "        )\n",
        "\n",
        "    def encode(self, x):\n",
        "        x = self.encoder(x)\n",
        "        return self.fc_mu(x), self.fc_logvar(x)\n",
        "\n",
        "    def reparameterize(self, mu, logvar):\n",
        "        std = torch.exp(0.5 * logvar)\n",
        "        eps = torch.randn_like(std)\n",
        "        return mu + eps * std\n",
        "\n",
        "    def decode(self, z):\n",
        "        z = self.fc_decode(z)\n",
        "        return self.decoder(z)\n",
        "\n",
        "    def forward(self, x):\n",
        "        mu, logvar = self.encode(x)\n",
        "        z = self.reparameterize(mu, logvar)\n",
        "        return self.decode(z), mu, logvar\n",
        "\n",
        "# Define loss function using recon_loss and kld\n",
        "def vae_loss(recon_x, x, mu, logvar):\n",
        "    recon_loss = F.mse_loss(recon_x, x)\n",
        "    kld = -0.5 * torch.sum(1 + logvar - mu.pow(2) - logvar.exp()) / x.size(0)\n",
        "    return recon_loss + 1e-3 * kld\n",
        "\n",
        "# Train VCAE and generate synthetic samples\n",
        "def train_vae_for_class(specs, label_idx, device, n_synth=500, latent_dim=32, epochs=10, batch_size=32):\n",
        "    vae = VCAE(latent_dim=latent_dim).to(device)\n",
        "    optimizer = torch.optim.Adam(vae.parameters(), lr=1e-3)\n",
        "\n",
        "    interpolated_specs = []\n",
        "    for s in specs:\n",
        "        if s.dim() == 3:\n",
        "            s = s.unsqueeze(0)  # shape: [1, 1, 64, T]\n",
        "        s_interp = F.interpolate(s, size=(64, 96), mode='bilinear')  # shape: [1, 1, 64, 96]\n",
        "        interpolated_specs.append(s_interp.squeeze(0))  # remove extra batch dim\n",
        "\n",
        "    tensor_specs = torch.stack(interpolated_specs)  # final shape: [N, 1, 64, 96]\n",
        "    dataset = TensorDataset(tensor_specs)\n",
        "    loader = DataLoader(dataset, batch_size=batch_size, shuffle=True)\n",
        "\n",
        "    for epoch in range(epochs):\n",
        "        vae.train()\n",
        "        total_loss = 0\n",
        "        for batch in loader:\n",
        "            inputs = batch[0].to(device)\n",
        "            optimizer.zero_grad()\n",
        "            recon, mu, logvar = vae(inputs)\n",
        "            loss = vae_loss(recon, inputs, mu, logvar)\n",
        "            loss.backward()\n",
        "            optimizer.step()\n",
        "            total_loss += loss.item()\n",
        "        print(f\"Epoch {epoch+1}/{epochs}, Loss: {total_loss:.4f}\")\n",
        "\n",
        "    # Generate synthetic samples\n",
        "    vae.eval()\n",
        "    synthetic_data = []\n",
        "    for _ in range(n_synth):\n",
        "        z = torch.randn(1, latent_dim).to(device)\n",
        "        with torch.no_grad():\n",
        "            synth = vae.decode(z).cpu()\n",
        "        synthetic_data.append((synth.squeeze(0), label_idx, \"synthetic\"))\n",
        "    return synthetic_data\n",
        "\n",
        "# Train VCAE per class and collect synthetic samples\n",
        "synthetic_all = []\n",
        "for cls in minority_classes:\n",
        "    print(f\"\\nTraining VCAE for class: {cls}\")\n",
        "    specs = [spec for spec, diag, _ in filtered_mel_data if diag == cls]\n",
        "    label_idx = label_encoder.transform([cls])[0]\n",
        "    target_class_size = 1000\n",
        "    real_size = len(specs)\n",
        "    n_synth = max(0, target_class_size - real_size)\n",
        "    print(f\"Generating {n_synth} synthetic samples for {cls} (current: {real_size})\")\n",
        "    synthetic_specs = train_vae_for_class(specs, label_idx, device, n_synth=n_synth)\n",
        "    synthetic_all.extend(synthetic_specs)\n",
        "\n",
        "# Prepare real and synthetic data for training\n",
        "final_real_data = [(spec, label_encoder.transform([diag])[0], path) for spec, diag, path in filtered_mel_data]\n",
        "real_labels = [label for _, label, _ in final_real_data]"
      ],
      "metadata": {
        "colab": {
          "base_uri": "https://localhost:8080/"
        },
        "id": "VIa5YwyjlWHr",
        "outputId": "f50453ad-0cdf-4907-d74e-a72ee5cc4011"
      },
      "execution_count": 45,
      "outputs": [
        {
          "output_type": "stream",
          "name": "stdout",
          "text": [
            "Filtered dataset size: 3488\n",
            "Diagnosis counts after filtering: Counter({'COPD': 2000, 'Pneumonia': 444, 'Healthy': 420, 'URTI': 276, 'Bronchiectasis': 192, 'Bronchiolitis': 156})\n",
            "Minority classes to augment: ['Bronchiolitis', 'URTI', 'Bronchiectasis', 'Healthy', 'Pneumonia']\n",
            "\n",
            "Training VCAE for class: Bronchiolitis\n",
            "Generating 844 synthetic samples for Bronchiolitis (current: 156)\n",
            "Epoch 1/10, Loss: 4.9548\n",
            "Epoch 2/10, Loss: 4.3689\n",
            "Epoch 3/10, Loss: 3.5145\n",
            "Epoch 4/10, Loss: 3.0063\n",
            "Epoch 5/10, Loss: 2.5599\n",
            "Epoch 6/10, Loss: 2.2234\n",
            "Epoch 7/10, Loss: 2.0505\n",
            "Epoch 8/10, Loss: 1.9636\n",
            "Epoch 9/10, Loss: 1.9072\n",
            "Epoch 10/10, Loss: 1.8771\n",
            "\n",
            "Training VCAE for class: URTI\n",
            "Generating 724 synthetic samples for URTI (current: 276)\n",
            "Epoch 1/10, Loss: 9.3181\n",
            "Epoch 2/10, Loss: 8.4741\n",
            "Epoch 3/10, Loss: 5.8604\n",
            "Epoch 4/10, Loss: 4.2236\n",
            "Epoch 5/10, Loss: 3.6798\n",
            "Epoch 6/10, Loss: 3.4325\n",
            "Epoch 7/10, Loss: 3.3160\n",
            "Epoch 8/10, Loss: 3.2269\n",
            "Epoch 9/10, Loss: 3.1965\n",
            "Epoch 10/10, Loss: 3.1782\n",
            "\n",
            "Training VCAE for class: Bronchiectasis\n",
            "Generating 808 synthetic samples for Bronchiectasis (current: 192)\n",
            "Epoch 1/10, Loss: 6.0004\n",
            "Epoch 2/10, Loss: 5.5838\n",
            "Epoch 3/10, Loss: 4.2887\n",
            "Epoch 4/10, Loss: 3.1295\n",
            "Epoch 5/10, Loss: 2.5383\n",
            "Epoch 6/10, Loss: 2.2540\n",
            "Epoch 7/10, Loss: 2.1123\n",
            "Epoch 8/10, Loss: 2.0107\n",
            "Epoch 9/10, Loss: 1.9355\n",
            "Epoch 10/10, Loss: 1.8778\n",
            "\n",
            "Training VCAE for class: Healthy\n",
            "Generating 580 synthetic samples for Healthy (current: 420)\n",
            "Epoch 1/10, Loss: 13.7259\n",
            "Epoch 2/10, Loss: 8.0988\n",
            "Epoch 3/10, Loss: 6.1171\n",
            "Epoch 4/10, Loss: 5.7094\n",
            "Epoch 5/10, Loss: 5.5543\n",
            "Epoch 6/10, Loss: 5.3057\n",
            "Epoch 7/10, Loss: 5.1611\n",
            "Epoch 8/10, Loss: 5.1926\n",
            "Epoch 9/10, Loss: 5.1687\n",
            "Epoch 10/10, Loss: 5.0534\n",
            "\n",
            "Training VCAE for class: Pneumonia\n",
            "Generating 556 synthetic samples for Pneumonia (current: 444)\n",
            "Epoch 1/10, Loss: 12.9402\n",
            "Epoch 2/10, Loss: 6.9333\n",
            "Epoch 3/10, Loss: 5.3913\n",
            "Epoch 4/10, Loss: 5.1487\n",
            "Epoch 5/10, Loss: 5.0590\n",
            "Epoch 6/10, Loss: 4.9671\n",
            "Epoch 7/10, Loss: 4.8608\n",
            "Epoch 8/10, Loss: 4.8620\n",
            "Epoch 9/10, Loss: 4.7779\n",
            "Epoch 10/10, Loss: 4.7401\n"
          ]
        }
      ]
    },
    {
      "cell_type": "markdown",
      "metadata": {
        "id": "aQhqfjZWYcAJ"
      },
      "source": [
        "# Transfer learning with VGGish CNN:"
      ]
    },
    {
      "cell_type": "markdown",
      "metadata": {
        "id": "SG7EH6Z9yjRe"
      },
      "source": [
        "Creating dataset class and implementing train/val/test split:"
      ]
    },
    {
      "cell_type": "code",
      "execution_count": 46,
      "metadata": {
        "id": "-RszEF7jyqF6"
      },
      "outputs": [],
      "source": [
        "# Set seed\n",
        "SEED = 42\n",
        "torch.manual_seed(SEED)\n",
        "\n",
        "# Startify train/val/test split (ensure each classs is represented proportionally)\n",
        "def stratified_split(labels, test_ratio=0.2, val_ratio=0.2, seed=42):\n",
        "    np.random.seed(seed)\n",
        "    labels = np.array(labels)\n",
        "    unique_classes = np.unique(labels)\n",
        "    train_idx, val_idx, test_idx = [], [], []\n",
        "    for cls in unique_classes:\n",
        "        cls_idx = np.where(labels == cls)[0]\n",
        "        np.random.shuffle(cls_idx)\n",
        "        n_total = len(cls_idx)\n",
        "        n_test = int(n_total * test_ratio)\n",
        "        n_val = int((n_total - n_test) * val_ratio)\n",
        "        test_idx.extend(cls_idx[:n_test])\n",
        "        val_idx.extend(cls_idx[n_test:n_test + n_val])\n",
        "        train_idx.extend(cls_idx[n_test + n_val:])\n",
        "    return train_idx, val_idx, test_idx # return indices\n",
        "\n",
        "# Splitting the data, and synthetic data to the training set\n",
        "train_idx, val_idx, test_idx = stratified_split(real_labels, seed=SEED)\n",
        "train_real = [final_real_data[i] for i in train_idx]\n",
        "val_data = [final_real_data[i] for i in val_idx]\n",
        "test_data = [final_real_data[i] for i in test_idx]\n",
        "train_data = train_real + synthetic_all\n",
        "\n",
        "# Dataset class\n",
        "class MelSpecDataset(Dataset):\n",
        "    def __init__(self, data_list):\n",
        "        self.data = data_list\n",
        "    def __len__(self):\n",
        "        return len(self.data)\n",
        "    def __getitem__(self, idx):\n",
        "        spec, label, _ = self.data[idx]\n",
        "        return spec, label\n",
        "\n",
        "# Building DataLoaders\n",
        "BATCH_SIZE = 64\n",
        "dataset_train = MelSpecDataset(train_data)\n",
        "dataset_val = MelSpecDataset(val_data)\n",
        "dataset_test = MelSpecDataset(test_data)\n",
        "train_loader = DataLoader(dataset_train, batch_size=BATCH_SIZE, shuffle=True)\n",
        "val_loader = DataLoader(dataset_val, batch_size=BATCH_SIZE)\n",
        "test_loader = DataLoader(dataset_test, batch_size=BATCH_SIZE)\n",
        "\n",
        "# Computing class weights\n",
        "real_train_labels = [label for _, label, _ in train_real]\n",
        "class_weights = compute_class_weight(class_weight='balanced', classes=np.unique(real_train_labels), y=real_train_labels)\n",
        "scaled_weights = class_weights ** 0.5 # scaled to soften effect\n",
        "class_weights_tensor = torch.tensor(scaled_weights, dtype=torch.float).to(device)\n"
      ]
    },
    {
      "cell_type": "markdown",
      "metadata": {
        "id": "Afx6mwi00eyI"
      },
      "source": [
        "Defining model architecture:"
      ]
    },
    {
      "cell_type": "code",
      "execution_count": 47,
      "metadata": {
        "id": "Ja_k12PGZFrB"
      },
      "outputs": [],
      "source": [
        "from torchvggish import vggish\n",
        "import torch.nn as nn\n",
        "\n",
        "class MyVGGish(nn.Module):\n",
        "  \"\"\"\n",
        "  Defining the VGGish model architecture.\n",
        "  \"\"\"\n",
        "  def __init__(self, num_classes=8): # eight diagnosis labels\n",
        "      super(MyVGGish, self).__init__()\n",
        "\n",
        "      self.vggish = vggish()  # load pretrained weights\n",
        "      self.vggish.postprocess = False  # skip PCA/postprocessing\n",
        "\n",
        "      # Store as a frozen submodule\n",
        "      for param in self.vggish.parameters():\n",
        "          param.requires_grad = False\n",
        "\n",
        "      # Final classifier layer\n",
        "      self.fc = nn.Linear(128, num_classes)\n",
        "\n",
        "  def forward(self, x):\n",
        "    # VGGish expects input shape [batch, 1, 96, 64], resize to match\n",
        "      x = nn.functional.interpolate(x, size=(96, 64), mode='bilinear')\n",
        "      x = self.vggish(x)  # output shape: [batch_size, 128]\n",
        "      return self.fc(x)\n"
      ]
    },
    {
      "cell_type": "code",
      "execution_count": 48,
      "metadata": {
        "id": "ZqurLlU3YPxF"
      },
      "outputs": [],
      "source": [
        "# training and validation loop\n",
        "def train_and_validate(model, train_loader, val_loader, class_weights_tensor, num_epochs=10, learning_rate=0.0001):\n",
        "\n",
        "    # set model to train\n",
        "    model.train()\n",
        "\n",
        "    # set optimizer (Adam) and loss function (CrossEntropyLoss)\n",
        "    optimizer = optim.Adam(model.parameters(), lr=learning_rate, weight_decay = 0.0001) # add weight decay for regularization\n",
        "    criterion = nn.CrossEntropyLoss(weight=class_weights_tensor) # weighted cross-entropy loss to account for class imbalance\n",
        "\n",
        "    # lists for tracking training and validation loss and accuracy\n",
        "    train_losses = []\n",
        "    val_losses = []\n",
        "    val_accuracies = []\n",
        "\n",
        "    for epoch in range(num_epochs):\n",
        "        print(f\"Starting Epoch {epoch + 1}\")\n",
        "\n",
        "        # training:\n",
        "        epoch_train_loss = 0.0\n",
        "        correct_train = 0\n",
        "        total_train = 0\n",
        "\n",
        "        for batch in train_loader:\n",
        "            images, labels = batch\n",
        "            optimizer.zero_grad()\n",
        "\n",
        "            # forward pass\n",
        "            outputs = model(images)\n",
        "            loss = criterion(outputs, labels)\n",
        "\n",
        "            # backward pass and optimization\n",
        "            loss.backward()\n",
        "            optimizer.step()\n",
        "\n",
        "            # recording training loss\n",
        "            epoch_train_loss += loss.item()\n",
        "\n",
        "            # calculate training accuracy\n",
        "            _, predicted = torch.max(outputs, 1) # get pred class indices\n",
        "            correct_train += (predicted == labels).sum().item()\n",
        "            total_train += labels.size(0)\n",
        "\n",
        "        # averaging training loss and accuracy per epoch\n",
        "        train_losses.append(epoch_train_loss / len(train_loader))\n",
        "        train_accuracy = correct_train / total_train * 100\n",
        "\n",
        "        # validating:\n",
        "        model.eval()  # set the model to eval\n",
        "        epoch_val_loss = 0.0\n",
        "        correct_val = 0\n",
        "        total_val = 0\n",
        "\n",
        "        with torch.no_grad():  # disable gradient calc for efficiency\n",
        "            for batch in val_loader:\n",
        "                images, labels = batch\n",
        "                outputs = model(images)\n",
        "                loss = criterion(outputs, labels)\n",
        "\n",
        "                # recording validation loss\n",
        "                epoch_val_loss += loss.item()\n",
        "\n",
        "                # calculate validation accuracy\n",
        "                _, predicted = torch.max(outputs, 1) # get pred class indices\n",
        "                correct_val += (predicted == labels).sum().item()\n",
        "                total_val += labels.size(0)\n",
        "\n",
        "        # average validation loss and accuracy per epoch\n",
        "        val_losses.append(epoch_val_loss / len(val_loader))\n",
        "        val_accuracies.append(correct_val / total_val * 100)\n",
        "\n",
        "        # print progress per iteration\n",
        "        print(f'Epoch [{epoch+1}/{num_epochs}], Train Loss: {train_losses[-1]:.4f}, Train Accuracy: {train_accuracy:.2f}%, Validation Loss: {val_losses[-1]:.4f}, Validation Accuracy: {val_accuracies[-1]:.2f}%')\n",
        "\n",
        "    return train_losses, val_losses, val_accuracies # return for plotting"
      ]
    },
    {
      "cell_type": "code",
      "execution_count": 49,
      "metadata": {
        "id": "3KWJm4_mY1h_"
      },
      "outputs": [],
      "source": [
        "# plot the training and validation loss curves over epochs\n",
        "def plot_loss_curve(train_losses, val_losses):\n",
        "    plt.figure(figsize=(10, 5))\n",
        "    plt.plot(train_losses, label='Train Loss')\n",
        "    plt.plot(val_losses, label='Validation Loss')\n",
        "    plt.title('Training and Validation Loss')\n",
        "    plt.xlabel('Epochs')\n",
        "    plt.ylabel('Loss')\n",
        "    plt.legend()\n",
        "    plt.show()"
      ]
    },
    {
      "cell_type": "code",
      "execution_count": 50,
      "metadata": {
        "id": "kHXImGGBY4YC"
      },
      "outputs": [],
      "source": [
        "# evalualte model accuracy on test set\n",
        "def test_model_accuracy(model, test_loader):\n",
        "    model.eval()  # set the model to eval\n",
        "    correct_test = 0\n",
        "    total_test = 0\n",
        "\n",
        "    with torch.no_grad(): # save memory by no gradient calculations\n",
        "        for batch in test_loader:\n",
        "            images, labels = batch\n",
        "            outputs = model(images)\n",
        "\n",
        "            _, predicted = torch.max(outputs, 1)\n",
        "            correct_test += (predicted == labels).sum().item()\n",
        "            total_test += labels.size(0)\n",
        "\n",
        "    test_accuracy = correct_test / total_test * 100\n",
        "    return test_accuracy"
      ]
    },
    {
      "cell_type": "code",
      "execution_count": 51,
      "metadata": {
        "colab": {
          "base_uri": "https://localhost:8080/",
          "height": 862
        },
        "id": "0p1hurIfY7FN",
        "outputId": "074521db-e8d8-457e-fc96-d0d162432def"
      },
      "outputs": [
        {
          "output_type": "stream",
          "name": "stdout",
          "text": [
            "Starting Epoch 1\n",
            "Epoch [1/10], Train Loss: 1.8581, Train Accuracy: 14.60%, Validation Loss: 1.8302, Validation Accuracy: 10.95%\n",
            "Starting Epoch 2\n",
            "Epoch [2/10], Train Loss: 1.8129, Train Accuracy: 12.13%, Validation Loss: 1.8742, Validation Accuracy: 5.75%\n",
            "Starting Epoch 3\n",
            "Epoch [3/10], Train Loss: 1.7839, Train Accuracy: 14.56%, Validation Loss: 1.9096, Validation Accuracy: 5.39%\n",
            "Starting Epoch 4\n",
            "Epoch [4/10], Train Loss: 1.7647, Train Accuracy: 16.25%, Validation Loss: 1.9350, Validation Accuracy: 5.21%\n",
            "Starting Epoch 5\n",
            "Epoch [5/10], Train Loss: 1.7515, Train Accuracy: 16.62%, Validation Loss: 1.9539, Validation Accuracy: 5.39%\n",
            "Starting Epoch 6\n",
            "Epoch [6/10], Train Loss: 1.7425, Train Accuracy: 16.08%, Validation Loss: 1.9633, Validation Accuracy: 5.21%\n",
            "Starting Epoch 7\n",
            "Epoch [7/10], Train Loss: 1.7352, Train Accuracy: 16.62%, Validation Loss: 1.9670, Validation Accuracy: 5.21%\n",
            "Starting Epoch 8\n",
            "Epoch [8/10], Train Loss: 1.7290, Train Accuracy: 16.57%, Validation Loss: 1.9680, Validation Accuracy: 4.67%\n",
            "Starting Epoch 9\n",
            "Epoch [9/10], Train Loss: 1.7235, Train Accuracy: 16.57%, Validation Loss: 1.9627, Validation Accuracy: 4.13%\n",
            "Starting Epoch 10\n",
            "Epoch [10/10], Train Loss: 1.7184, Train Accuracy: 16.41%, Validation Loss: 1.9578, Validation Accuracy: 3.59%\n"
          ]
        },
        {
          "output_type": "display_data",
          "data": {
            "text/plain": [
              "<Figure size 1000x500 with 1 Axes>"
            ],
            "image/png": "[encoded data removed]"
          },
          "metadata": {}
        },
        {
          "output_type": "stream",
          "name": "stdout",
          "text": [
            "VGGish Test Accuracy: 4.45%\n"
          ]
        }
      ],
      "source": [
        "# train, validate, test model\n",
        "model_VGGish = MyVGGish(num_classes=len(label_encoder.classes_)).to(\"cuda\" if torch.cuda.is_available() else \"cpu\")\n",
        "train_losses, val_losses, val_accuracies = train_and_validate(model_VGGish, train_loader, val_loader, class_weights_tensor, num_epochs=10)\n",
        "plot_loss_curve(train_losses, val_losses)\n",
        "test_accuracy = test_model_accuracy(model_VGGish, test_loader)\n",
        "print(f'VGGish Test Accuracy: {test_accuracy:.2f}%') # round to 2 decimals"
      ]
    },
    {
      "cell_type": "code",
      "execution_count": 52,
      "metadata": {
        "id": "NWrpe3_tpsmt"
      },
      "outputs": [],
      "source": [
        "from sklearn.metrics import confusion_matrix, ConfusionMatrixDisplay\n",
        "\n",
        "# Get predictions and true labels for confusion matrix\n",
        "all_preds = []\n",
        "all_labels = []\n",
        "\n",
        "model_VGGish.eval()\n",
        "with torch.no_grad():\n",
        "    for batch in test_loader:\n",
        "        inputs, labels = batch\n",
        "        inputs = inputs.to(device)\n",
        "        labels = labels.to(device)\n",
        "\n",
        "        outputs = model_VGGish(inputs)\n",
        "        _, predicted = torch.max(outputs, 1)\n",
        "\n",
        "        all_preds.extend(predicted.cpu().numpy())\n",
        "        all_labels.extend(labels.cpu().numpy())"
      ]
    },
    {
      "cell_type": "code",
      "execution_count": 53,
      "metadata": {
        "colab": {
          "base_uri": "https://localhost:8080/",
          "height": 539
        },
        "id": "ZBKH0N2RISEa",
        "outputId": "8dac85b0-9e12-40d9-e4cd-7197b238109b"
      },
      "outputs": [
        {
          "output_type": "display_data",
          "data": {
            "text/plain": [
              "<Figure size 640x480 with 2 Axes>"
            ],
            "image/png": "[encoded data removed]"
          },
          "metadata": {}
        }
      ],
      "source": [
        "# Visualize confusion matrix\n",
        "cm = confusion_matrix(all_labels, all_preds)\n",
        "disp = ConfusionMatrixDisplay(confusion_matrix=cm, display_labels=label_encoder.classes_)\n",
        "disp.plot(xticks_rotation=45)\n",
        "plt.title(\"Confusion Matrix\")\n",
        "plt.show()"
      ]
    }
  ],
  "metadata": {
    "accelerator": "TPU",
    "colab": {
      "gpuType": "V28",
      "provenance": []
    },
    "kernelspec": {
      "display_name": "Python 3",
      "name": "python3"
    },
    "language_info": {
      "name": "python"
    }
  },
  "nbformat": 4,
  "nbformat_minor": 0
}